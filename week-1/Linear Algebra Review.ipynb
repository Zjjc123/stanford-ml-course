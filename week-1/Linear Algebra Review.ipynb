{
 "cells": [
  {
   "cell_type": "markdown",
   "id": "greenhouse-documentary",
   "metadata": {},
   "source": [
    "# Linear Algebra Review\n",
    "\n",
    "## Matrix\n",
    "\n",
    "Rectangular array of numbers\n",
    "\n",
    "**2 by 3 matrix**\n",
    "\n",
    "$\\begin{bmatrix}\n",
    "1 & 2 & 3\\\\\n",
    "a & b & c\n",
    "\\end{bmatrix}$\n",
    "\n",
    "Dimension of matrix: number of r**ows** x number of **columns**\n",
    "\n",
    "### Matrix Element\n",
    "\n",
    "Entries of matrix\n",
    "\n",
    "$A_{ij} =$  \"$i,j$ entry\" in the $i^{th}$ row, $j^{th}$ column\n",
    "\n",
    "## Vector\n",
    "\n",
    "An n x 1 matrix\n",
    "\n",
    "$\\begin{bmatrix}\n",
    " 1 \\\\\n",
    " 2 \\\\\n",
    " 3 \\\\\n",
    " 4 \n",
    "\\end{bmatrix}$"
   ]
  },
  {
   "cell_type": "code",
   "execution_count": 2,
   "id": "nervous-engagement",
   "metadata": {},
   "outputs": [],
   "source": [
    "import numpy as np"
   ]
  },
  {
   "cell_type": "markdown",
   "id": "combined-wyoming",
   "metadata": {},
   "source": [
    "## Operations\n",
    "\n",
    "### Addition\n",
    "\n",
    "$\\begin{aligned} {A}+{B} &= \\left[\\begin{array}{rr}{4} &{8} \\\\ {3} & {7} \\end{array}\\right]+\\left[\\begin{array}{rr}{{1}} &{0} \\\\{5} & {2} \\end{array}\\right]  &= \\left[\\begin{array}{rr}{4+{1}} &{8}+{0} \\\\{ 3}+{5} & 7+2 \\end{array}\\right]  &= \\left[\\begin{array}{rr}{5} &8 \\\\ 8 & 9 \\end{array}\\right] \\end{aligned}$"
   ]
  },
  {
   "cell_type": "code",
   "execution_count": 4,
   "id": "norman-montreal",
   "metadata": {},
   "outputs": [
    {
     "name": "stdout",
     "output_type": "stream",
     "text": [
      "[[5 8]\n",
      " [8 9]]\n"
     ]
    }
   ],
   "source": [
    "A = np.array([[4, 8], [3, 7]])\n",
    "B = np.array([[1, 0], [5, 2]])\n",
    "print(A + B)"
   ]
  },
  {
   "cell_type": "markdown",
   "id": "blind-tumor",
   "metadata": {},
   "source": [
    "### Scalar Multiplication\n",
    "\n",
    "$\\begin{aligned} \\ 2\\cdot\\left[ \\begin{array}{cc} 5 & 2 \\\\ 3 & 1 \\end{array} \\right] &=\\left[ \\begin{array}{cc} \\ 2\\cdot 5 & \\ 2\\cdot 2 \\\\ \\ 2\\cdot 3 & \\ 2\\cdot 1 \\end{array} \\right] &=\\left[ \\begin{array}{cc} 10 & 4 \\\\ 6 & 2 \\end{array} \\right] \\end{aligned}$"
   ]
  },
  {
   "cell_type": "code",
   "execution_count": 6,
   "id": "premium-theater",
   "metadata": {},
   "outputs": [
    {
     "name": "stdout",
     "output_type": "stream",
     "text": [
      "[[10  4]\n",
      " [ 6  2]]\n"
     ]
    }
   ],
   "source": [
    "A = np.array([[5, 2], [3, 1]])\n",
    "print(2 * A)"
   ]
  }
 ],
 "metadata": {
  "kernelspec": {
   "display_name": "Python 3",
   "language": "python",
   "name": "python3"
  },
  "language_info": {
   "codemirror_mode": {
    "name": "ipython",
    "version": 3
   },
   "file_extension": ".py",
   "mimetype": "text/x-python",
   "name": "python",
   "nbconvert_exporter": "python",
   "pygments_lexer": "ipython3",
   "version": "3.7.9"
  }
 },
 "nbformat": 4,
 "nbformat_minor": 5
}
