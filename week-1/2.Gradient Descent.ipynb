{
 "cells": [
  {
   "cell_type": "markdown",
   "id": "boolean-foundation",
   "metadata": {},
   "source": [
    "# Gradient Descent\n",
    "\n",
    "Solve for minimum of the cost function\n",
    "\n",
    "- Start with some $\\theta_0, \\theta_1$\n",
    "- Keep changing  $\\theta_0, \\theta_1$ to reduce $J(\\theta_0, \\theta_1)$ until we hopefully end up at the minimum.\n",
    "\n",
    "## Algorithm\n",
    "\n",
    "**:= ⇒ assignment**\n",
    "\n",
    "$**\\alpha$ ⇒ learning rate - how big are the gradient descent steps**\n",
    "\n",
    "$**\\partial$ ⇒ partial derivative** - taking derivative with respect to one variable while holding the other one constant\n",
    "\n",
    "repeat until convergence {\n",
    "\t$\\theta_j:=\\theta_j-\\alpha\\frac{\\partial}{\\partial\\theta_j}J(\\theta_0,\\theta_1)$ (for j = 0 and j = 1)\n",
    "}\n",
    "\n",
    "**Simultaneously update all the $\\theta$ parameters!!**\n",
    "\n",
    "### Correct Implementation\n",
    "\n",
    "temp0 $:=\\theta_0-\\alpha\\frac{\\partial}{\\partial\\theta_0}J(\\theta_0,\\theta_1)$\n",
    "\n",
    "temp1 $:=\\theta_1-\\alpha\\frac{\\partial}{\\partial\\theta_1}J(\\theta_0,\\theta_1)$\n",
    "\n",
    "$\\theta_0:=$ temp0\n",
    "\n",
    "$\\theta_1:=$ temp1\n",
    "\n",
    "***incorrect to update one parameter before calculating the other**\n",
    "\n",
    "- if $\\alpha$ is too small, gradient descent can be slow\n",
    "- if $\\alpha$ is too large, gradient descent can overshoot the minimum, it may fail to converge, or even diverge.\n",
    "\n",
    "**Batch** **Gradient Descent** **-** each step of gradient descent uses all the training examples\n"
   ]
  },
  {
   "cell_type": "markdown",
   "id": "significant-kruger",
   "metadata": {},
   "source": [
    "## Gradient Descent for Linear Regression\n",
    "\n",
    "$\\frac{\\partial}{\\partial\\theta_j}J(\\theta_0, \\theta_1) = \\frac{\\partial}{\\partial\\theta_j}\\frac{1}{2m}\\sum^m_{i = 1}(h_\\theta(x^{(i)}) - y^{(i)})^2$\n",
    "\n",
    "$\\frac{\\partial}{\\partial\\theta_j}J(\\theta_0, \\theta_1) = \\frac{\\partial}{\\partial\\theta_j}\\frac{1}{2m}\\sum^m_{i = 1}(\\theta_0 + \\theta_1 x^{(i)} - y^{(i)})^2$\n",
    "\n",
    "### Simple Multivariable Calculus\n",
    "\n",
    "$j=0:\\frac{\\partial}{\\partial\\theta_0}J(\\theta_0, \\theta_1) = \\frac{2}{2m}\\sum^m_{i = 1}(\\theta_0 + \\theta_1 x^{(i)} - y^{(i)}) (1) = \\frac{1}{m}\\sum^m_{i = 1}(h_\\theta(x^{(j)} - y^{(i)})$ \n",
    "\n",
    "$j=1:\\frac{\\partial}{\\partial\\theta_1}J(\\theta_0, \\theta_1) = \\frac{2}{2m}\\sum^m_{i = 1}(\\theta_0 + \\theta_1 x^{(i)} - y^{(i)}) (x^{(i)}) = \\frac{1}{m}\\sum^m_{i = 1}(h_\\theta(x^{(j)} - y^{(i)})(x^{(i)})$"
   ]
  },
  {
   "cell_type": "markdown",
   "id": "superior-globe",
   "metadata": {},
   "source": [
    "## Linear Regression Scalar Implementation"
   ]
  },
  {
   "cell_type": "code",
   "execution_count": 2,
   "id": "decimal-foster",
   "metadata": {},
   "outputs": [],
   "source": [
    "# import libraries\n",
    "import numpy as np\n",
    "import matplotlib.pyplot as plt\n",
    "import pandas as pd"
   ]
  },
  {
   "cell_type": "code",
   "execution_count": 3,
   "id": "colored-proof",
   "metadata": {},
   "outputs": [
    {
     "data": {
      "text/html": [
       "<div>\n",
       "<style scoped>\n",
       "    .dataframe tbody tr th:only-of-type {\n",
       "        vertical-align: middle;\n",
       "    }\n",
       "\n",
       "    .dataframe tbody tr th {\n",
       "        vertical-align: top;\n",
       "    }\n",
       "\n",
       "    .dataframe thead th {\n",
       "        text-align: right;\n",
       "    }\n",
       "</style>\n",
       "<table border=\"1\" class=\"dataframe\">\n",
       "  <thead>\n",
       "    <tr style=\"text-align: right;\">\n",
       "      <th></th>\n",
       "      <th>Location</th>\n",
       "      <th>PovPct</th>\n",
       "      <th>Brth15to17</th>\n",
       "      <th>Brth18to19</th>\n",
       "      <th>ViolCrime</th>\n",
       "      <th>TeenBrth</th>\n",
       "    </tr>\n",
       "  </thead>\n",
       "  <tbody>\n",
       "    <tr>\n",
       "      <th>0</th>\n",
       "      <td>Alabama</td>\n",
       "      <td>20.1</td>\n",
       "      <td>31.5</td>\n",
       "      <td>88.7</td>\n",
       "      <td>11.2</td>\n",
       "      <td>54.5</td>\n",
       "    </tr>\n",
       "    <tr>\n",
       "      <th>1</th>\n",
       "      <td>Alaska</td>\n",
       "      <td>7.1</td>\n",
       "      <td>18.9</td>\n",
       "      <td>73.7</td>\n",
       "      <td>9.1</td>\n",
       "      <td>39.5</td>\n",
       "    </tr>\n",
       "    <tr>\n",
       "      <th>2</th>\n",
       "      <td>Arizona</td>\n",
       "      <td>16.1</td>\n",
       "      <td>35.0</td>\n",
       "      <td>102.5</td>\n",
       "      <td>10.4</td>\n",
       "      <td>61.2</td>\n",
       "    </tr>\n",
       "    <tr>\n",
       "      <th>3</th>\n",
       "      <td>Arkansas</td>\n",
       "      <td>14.9</td>\n",
       "      <td>31.6</td>\n",
       "      <td>101.7</td>\n",
       "      <td>10.4</td>\n",
       "      <td>59.9</td>\n",
       "    </tr>\n",
       "    <tr>\n",
       "      <th>4</th>\n",
       "      <td>California</td>\n",
       "      <td>16.7</td>\n",
       "      <td>22.6</td>\n",
       "      <td>69.1</td>\n",
       "      <td>11.2</td>\n",
       "      <td>41.1</td>\n",
       "    </tr>\n",
       "  </tbody>\n",
       "</table>\n",
       "</div>"
      ],
      "text/plain": [
       "     Location  PovPct  Brth15to17  Brth18to19  ViolCrime  TeenBrth\n",
       "0     Alabama    20.1        31.5        88.7       11.2      54.5\n",
       "1      Alaska     7.1        18.9        73.7        9.1      39.5\n",
       "2     Arizona    16.1        35.0       102.5       10.4      61.2\n",
       "3    Arkansas    14.9        31.6       101.7       10.4      59.9\n",
       "4  California    16.7        22.6        69.1       11.2      41.1"
      ]
     },
     "execution_count": 3,
     "metadata": {},
     "output_type": "execute_result"
    }
   ],
   "source": [
    "# get dataset x: poverty percent, y: birth 15-17\n",
    "# https://online.stat.psu.edu/stat462/node/101/\n",
    "dataset = pd.read_csv('data/poverty.txt', delimiter=\"\\t\")\n",
    "\n",
    "# print dataset\n",
    "dataset.iloc[:5,:]"
   ]
  },
  {
   "cell_type": "code",
   "execution_count": 4,
   "id": "bulgarian-outdoors",
   "metadata": {},
   "outputs": [
    {
     "data": {
      "text/plain": [
       "<matplotlib.collections.PathCollection at 0x232d29dd148>"
      ]
     },
     "execution_count": 4,
     "metadata": {},
     "output_type": "execute_result"
    },
    {
     "data": {
      "image/png": "[encoded data removed]",
      "text/plain": [
       "<Figure size 432x288 with 1 Axes>"
      ]
     },
     "metadata": {
      "needs_background": "light"
     },
     "output_type": "display_data"
    }
   ],
   "source": [
    "# get x and y columns\n",
    "x_data = np.array(dataset['PovPct'].values)\n",
    "y_data = np.array(dataset['Brth15to17'].values)\n",
    "plt.scatter(x_data, y_data)"
   ]
  },
  {
   "cell_type": "code",
   "execution_count": 5,
   "id": "broken-medium",
   "metadata": {},
   "outputs": [],
   "source": [
    "# prediction function takes in x and predicts y\n",
    "def hypothesis_function(x):\n",
    "    return theta0 + theta1 * x\n",
    "\n",
    "# cost function\n",
    "def cost_function(x, y, theta0, theta1):\n",
    "    return np.sum(np.square(theta0 + theta1 * x - y)) / len(x) / 2\n",
    "\n",
    "# partial derivative of the cost function with respect to theta0\n",
    "def cost_derivative_theta0(x, y, theta0, theat1):\n",
    "    return np.sum(theta0 + theta1 * x - y) / len(x)\n",
    "    \n",
    "# partial derivative of the cost function with respect to theta1\n",
    "def cost_derivative_theta1(x, y, theta0, theta1, ):\n",
    "    return np.sum((theta0 + theta1 * x - y) * x) / len(x)\n",
    "\n",
    "# gradient descent that updates theta0 and theta1\n",
    "# alpha: learning rate\n",
    "# i: iteration\n",
    "def gradient_descent(x, y, theta0, theta1, alpha):\n",
    "    temp0 = theta0 - alpha * cost_derivative_theta0(x, y, theta0, theta1)\n",
    "    temp1 = theta1 - alpha * cost_derivative_theta1(x, y, theta0, theta1)\n",
    "    return (temp0, temp1)"
   ]
  },
  {
   "cell_type": "code",
   "execution_count": 12,
   "id": "cultural-treatment",
   "metadata": {},
   "outputs": [
    {
     "data": {
      "text/plain": [
       "[<matplotlib.lines.Line2D at 0x232d7decf08>]"
      ]
     },
     "execution_count": 12,
     "metadata": {},
     "output_type": "execute_result"
    },
    {
     "data": {
      "image/png": "[encoded data removed]",
      "text/plain": [
       "<Figure size 432x288 with 1 Axes>"
      ]
     },
     "metadata": {
      "needs_background": "light"
     },
     "output_type": "display_data"
    }
   ],
   "source": [
    "# initial plot\n",
    "plt.scatter(x_data, y_data)\n",
    "plt.plot(x_data, hypothesis_function(x_data))"
   ]
  },
  {
   "cell_type": "code",
   "execution_count": 15,
   "id": "indoor-indicator",
   "metadata": {},
   "outputs": [
    {
     "name": "stdout",
     "output_type": "stream",
     "text": [
      "initial cost: 279.96627450980395\n",
      "final cost:   14.924552157717306\n",
      "y = 1.485x + 2.645\n"
     ]
    },
    {
     "data": {
      "text/plain": [
       "[<matplotlib.lines.Line2D at 0x232d7e6a2c8>]"
      ]
     },
     "execution_count": 15,
     "metadata": {},
     "output_type": "execute_result"
    },
    {
     "data": {
      "image/png": "[encoded data removed]",
      "text/plain": [
       "<Figure size 432x288 with 1 Axes>"
      ]
     },
     "metadata": {
      "needs_background": "light"
     },
     "output_type": "display_data"
    }
   ],
   "source": [
    "# initialize parameters\n",
    "theta0 = 0\n",
    "theta1 = 0\n",
    "\n",
    "# perform gradient descent\n",
    "print('initial cost: ' + str(cost_function(x_data, y_data, theta0, theta1)))\n",
    "for _ in range(1000):\n",
    "    theta0, theta1 = gradient_descent(x_data, y_data, theta0, theta1, 0.01)\n",
    "    \n",
    "print('final cost:   ' +  str(cost_function(x_data, y_data, theta0, theta1)))\n",
    "print('y = ' + str(round(theta1, 3)) + \"x + \" + str(round(theta0, 3)))\n",
    "# post training plot\n",
    "plt.scatter(x_data, y_data)\n",
    "plt.xlabel(\"Poverty %\")\n",
    "plt.ylabel(\"Birth rate of females age 15 to 17\")\n",
    "plt.plot(x_data, hypothesis_function(x_data))"
   ]
  }
 ],
 "metadata": {
  "kernelspec": {
   "display_name": "Python 3",
   "language": "python",
   "name": "python3"
  },
  "language_info": {
   "codemirror_mode": {
    "name": "ipython",
    "version": 3
   },
   "file_extension": ".py",
   "mimetype": "text/x-python",
   "name": "python",
   "nbconvert_exporter": "python",
   "pygments_lexer": "ipython3",
   "version": "3.7.9"
  }
 },
 "nbformat": 4,
 "nbformat_minor": 5
}
