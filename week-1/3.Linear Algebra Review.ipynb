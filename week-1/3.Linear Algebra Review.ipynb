{
 "cells": [
  {
   "cell_type": "markdown",
   "id": "public-court",
   "metadata": {},
   "source": [
    "# Linear Algebra Review\n",
    "\n",
    "## Matrix\n",
    "\n",
    "Rectangular array of numbers\n",
    "\n",
    "**2 by 3 matrix**\n",
    "\n",
    "$\\begin{bmatrix}\n",
    "1 & 2 & 3\\\\\n",
    "a & b & c\n",
    "\\end{bmatrix}$\n",
    "\n",
    "Dimension of matrix: number of r**ows** x number of **columns**\n",
    "\n",
    "### Matrix Element\n",
    "\n",
    "Entries of matrix\n",
    "\n",
    "$A_{ij} =$  \"$i,j$ entry\" in the $i^{th}$ row, $j^{th}$ column\n",
    "\n",
    "## Vector\n",
    "\n",
    "An n x 1 matrix\n",
    "\n",
    "$\\begin{bmatrix}\n",
    " 1 \\\\\n",
    " 2 \\\\\n",
    " 3 \\\\\n",
    " 4 \n",
    "\\end{bmatrix}$"
   ]
  },
  {
   "cell_type": "code",
   "execution_count": 2,
   "id": "understanding-bahrain",
   "metadata": {},
   "outputs": [],
   "source": [
    "import numpy as np"
   ]
  },
  {
   "cell_type": "markdown",
   "id": "exact-interview",
   "metadata": {},
   "source": [
    "## Operations\n",
    "\n",
    "### Addition\n",
    "\n",
    "$\\begin{aligned} {A}+{B} &= \\left[\\begin{array}{rr}{4} &{8} \\\\ {3} & {7} \\end{array}\\right]+\\left[\\begin{array}{rr}{{1}} &{0} \\\\{5} & {2} \\end{array}\\right]  &= \\left[\\begin{array}{rr}{4+{1}} &{8}+{0} \\\\{ 3}+{5} & 7+2 \\end{array}\\right]  &= \\left[\\begin{array}{rr}{5} &8 \\\\ 8 & 9 \\end{array}\\right] \\end{aligned}$"
   ]
  },
  {
   "cell_type": "code",
   "execution_count": 4,
   "id": "resident-thesaurus",
   "metadata": {},
   "outputs": [
    {
     "name": "stdout",
     "output_type": "stream",
     "text": [
      "[[5 8]\n",
      " [8 9]]\n"
     ]
    }
   ],
   "source": [
    "A = np.array([[4, 8], [3, 7]])\n",
    "B = np.array([[1, 0], [5, 2]])\n",
    "print(A + B)"
   ]
  },
  {
   "cell_type": "markdown",
   "id": "enclosed-found",
   "metadata": {},
   "source": [
    "### Scalar Multiplication\n",
    "\n",
    "$\\begin{aligned} \\ 2\\cdot\\left[ \\begin{array}{cc} 5 & 2 \\\\ 3 & 1 \\end{array} \\right] &=\\left[ \\begin{array}{cc} \\ 2\\cdot 5 & \\ 2\\cdot 2 \\\\ \\ 2\\cdot 3 & \\ 2\\cdot 1 \\end{array} \\right] &=\\left[ \\begin{array}{cc} 10 & 4 \\\\ 6 & 2 \\end{array} \\right] \\end{aligned}$"
   ]
  },
  {
   "cell_type": "code",
   "execution_count": 21,
   "id": "appointed-sympathy",
   "metadata": {},
   "outputs": [
    {
     "name": "stdout",
     "output_type": "stream",
     "text": [
      "[[10  4]\n",
      " [ 6  2]]\n"
     ]
    }
   ],
   "source": [
    "A = np.array([[5, 2], [3, 1]])\n",
    "print(2 * A)"
   ]
  },
  {
   "cell_type": "markdown",
   "id": "historical-carroll",
   "metadata": {},
   "source": [
    "### Vector Matrix Multiplication\n",
    "\n",
    "$\\begin{bmatrix}1 & 3 \\\\4 & 0 \\\\2 & 1 \\end{bmatrix}\\begin{bmatrix}1\\\\ 5\\end{bmatrix}=\\begin{bmatrix}1 \\times 1 + 3 \\times 5\\\\ 4 \\times 1 + 0 \\times 5\\\\ 2 \\times 1 + 1 \\times 5\\end{bmatrix}=\\begin{bmatrix}16\\\\ 4\\\\ 7\\end{bmatrix}$"
   ]
  },
  {
   "cell_type": "code",
   "execution_count": 18,
   "id": "distributed-africa",
   "metadata": {},
   "outputs": [
    {
     "name": "stdout",
     "output_type": "stream",
     "text": [
      "[16  4  7]\n"
     ]
    }
   ],
   "source": [
    "A = np.array([[1, 3], [4, 0], [2, 1]])\n",
    "B = np.array([1, 5])\n",
    "print (np.matmul(A,B))"
   ]
  },
  {
   "cell_type": "markdown",
   "id": "inner-brush",
   "metadata": {},
   "source": [
    "## Vector Matrix Application\n",
    "\n",
    "$x = [234, 186, 162]$\n",
    "\n",
    "$\\theta_0 = 1$\n",
    "\n",
    "$\\theta_1 = 5$\n",
    "\n",
    "$\\begin{bmatrix}1 & 234 \\\\1 & 186 \\\\1 & 162 \\end{bmatrix}\\begin{bmatrix}1\\\\ 5\\end{bmatrix}=\\begin{bmatrix}1 \\times 1 + 234 \\times 5\\\\ 1 \\times 1 + 186 \\times 5\\\\ 1 \\times 1 + 162 \\times 5\\end{bmatrix}$\n",
    "\n",
    "Equivalent to\n",
    "\n",
    "$h_\\theta(x) = \\theta_0 + \\theta_1x$\n",
    "\n",
    "Simplified code and computationally more efficient"
   ]
  },
  {
   "cell_type": "markdown",
   "id": "revolutionary-developer",
   "metadata": {},
   "source": [
    "## Matrix Matrix Multiplication\n",
    "$\\begin{bmatrix} 1 &3  &2 \\\\ 4 &0  &1 \\end{bmatrix} \\begin{bmatrix} 1 &3  \\\\ 0 &1  \\\\ 5 &2 \\end{bmatrix} = \\begin{bmatrix} 11 &10  \\\\ 9 &14 \\end{bmatrix}$\n",
    "\n",
    "$\\begin{bmatrix} 1 &3  &2 \\\\ 4 &0  &1 \\end{bmatrix} \\begin{bmatrix} 1  \\\\ 0  \\\\ 5 \\end{bmatrix} = \\begin{bmatrix} 11  \\\\ 9 \\end{bmatrix}$ \n",
    "\n",
    "$\\begin{bmatrix} 1 &3  &2 \\\\ 4 &0  &1 \\end{bmatrix} \\begin{bmatrix} 3  \\\\ 1  \\\\ 2 \\end{bmatrix} = \\begin{bmatrix} 10  \\\\ 14 \\end{bmatrix}$\n",
    "\n",
    "m x n matrix (m rows n columns)\n",
    "\n",
    "n x o matrix (n rows o columns)\n",
    "\n",
    "result is a **m x o (m rows o columns) matrix**"
   ]
  },
  {
   "cell_type": "code",
   "execution_count": 16,
   "id": "failing-possession",
   "metadata": {},
   "outputs": [
    {
     "name": "stdout",
     "output_type": "stream",
     "text": [
      "[[11 10]\n",
      " [ 9 14]]\n"
     ]
    }
   ],
   "source": [
    "A = np.array([[1, 3, 2], [4, 0, 1]])\n",
    "B = np.array([[1, 3], [0, 1], [5, 2]])\n",
    "print (np.matmul(A,B))"
   ]
  },
  {
   "cell_type": "markdown",
   "id": "northern-warren",
   "metadata": {},
   "source": [
    "## Properties\n",
    "\n",
    "- Not Communicative $A \\times B\\not= B \\times A$\n",
    "- Associative $(A \\times B) \\times C = A \\times (B \\times C)$\n",
    "- Identity Matrix $A \\times I = I \\times A = A$\n",
    "\n",
    "    $\\begin{bmatrix}\n",
    "    1 & 0 & 0 & 0 \\\\ \n",
    "    0 & 1 & 0 & 0 \\\\0 & 0 & 1 & 0 \\\\ \n",
    "    0 & 0 & 0 & 1\n",
    "    \\end{bmatrix}$"
   ]
  },
  {
   "cell_type": "code",
   "execution_count": 22,
   "id": "younger-accounting",
   "metadata": {},
   "outputs": [
    {
     "name": "stdout",
     "output_type": "stream",
     "text": [
      "[[11 10]\n",
      " [ 9 14]]  !=  [[13  3  5]\n",
      " [ 4  0  1]\n",
      " [13 15 12]]\n"
     ]
    }
   ],
   "source": [
    "A = np.array([[1, 3, 2], [4, 0, 1]])\n",
    "B = np.array([[1, 3], [0, 1], [5, 2]])\n",
    "print (np.matmul(A,B), \" != \", np.matmul(B,A))"
   ]
  },
  {
   "cell_type": "markdown",
   "id": "julian-impression",
   "metadata": {},
   "source": [
    "### Inverse\n",
    "\n",
    "if A is an m x m matrix, and if it has an inverse,\n",
    "\n",
    "$AA^{-1}=A^{-1}A = I$"
   ]
  },
  {
   "cell_type": "code",
   "execution_count": 26,
   "id": "congressional-ranch",
   "metadata": {},
   "outputs": [
    {
     "name": "stdout",
     "output_type": "stream",
     "text": [
      "[[1.00000000e+00 1.11022302e-16]\n",
      " [0.00000000e+00 1.00000000e+00]]\n",
      "[[1.0000000e+00 4.4408921e-16]\n",
      " [0.0000000e+00 1.0000000e+00]]\n"
     ]
    }
   ],
   "source": [
    "from numpy.linalg import inv\n",
    "a = np.array([[1., 2.], [3., 4.]])\n",
    "ainv = inv(a)\n",
    "print(np.matmul(a, ainv))\n",
    "print(np.matmul(ainv, a))"
   ]
  },
  {
   "cell_type": "markdown",
   "id": "competitive-leader",
   "metadata": {},
   "source": [
    "### Transpose\n",
    "\n",
    "$A = \\begin{bmatrix}\n",
    "1 &2  &0 \\\\ \n",
    "3 &5  &9 \n",
    "\\end{bmatrix}$\n",
    "\n",
    "$A^T = \\begin{bmatrix}\n",
    "1 &3\\\\ \n",
    "2 &5\\\\ \n",
    "0 &9\n",
    "\\end{bmatrix}$\n",
    "\n",
    "Let $A$ be an m x n matrix, and let $B = A^T$\n",
    "\n",
    "Then $B$ is an n x m matrix, and $B_{ij} = A_{ji}$"
   ]
  },
  {
   "cell_type": "code",
   "execution_count": 34,
   "id": "introductory-cleaners",
   "metadata": {},
   "outputs": [
    {
     "name": "stdout",
     "output_type": "stream",
     "text": [
      "[[1 3]\n",
      " [2 5]\n",
      " [0 9]]\n"
     ]
    }
   ],
   "source": [
    "A = np.array([[1, 2, 0], [3, 5, 9]])\n",
    "# swaps axis-0 with axis-1\n",
    "# swaps axis-1 with axis-0\n",
    "Atranspose = A.transpose(1, 0)\n",
    "print (Atranspose)"
   ]
  }
 ],
 "metadata": {
  "kernelspec": {
   "display_name": "Python 3",
   "language": "python",
   "name": "python3"
  },
  "language_info": {
   "codemirror_mode": {
    "name": "ipython",
    "version": 3
   },
   "file_extension": ".py",
   "mimetype": "text/x-python",
   "name": "python",
   "nbconvert_exporter": "python",
   "pygments_lexer": "ipython3",
   "version": "3.7.9"
  }
 },
 "nbformat": 4,
 "nbformat_minor": 5
}
