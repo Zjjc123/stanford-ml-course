{
 "cells": [
  {
   "cell_type": "markdown",
   "id": "abstract-memphis",
   "metadata": {},
   "source": [
    "# What is Machine Learning\n",
    "\n",
    "> Field of study that gives computers the ability to learn without being explicitly programmed\n",
    "\n",
    "> Learn from experience E with respect to some task T and some performance measure P, if its performance on T, as measured by P, improves with experience E.\n",
    "\n",
    "## Supervised Learning\n",
    "\n",
    "The right answers are given\n",
    "\n",
    "**Regression:** Predict continuous valued output\n",
    "\n",
    "**Classification:** Discrete valued output (0 or 1)\n",
    "\n",
    "## Unsupervised Learning\n",
    "\n",
    "Given data and not told what to do with it and not what each data point is. Finding the structure in the data"
   ]
  },
  {
   "cell_type": "markdown",
   "id": "greenhouse-token",
   "metadata": {},
   "source": [
    "# Model Representation\n",
    "\n",
    "## Basic Regression Model\n",
    "\n",
    "**Linear regression with one variable (univariate linear regression)**\n",
    "\n",
    "**m** = Number of training examples\n",
    "\n",
    "**x =** \"input\" variable / features\n",
    "\n",
    "**y =** \"output\" variable / \"target variable\n",
    "\n",
    "$(x, y)$ - one training example\n",
    "\n",
    "$(x^i, y^i)$ -  $i^{th}$ training example\n",
    "\n",
    "[Training Set] ⇒ [Learning Algorithm] ⇒ [h]\n",
    "\n",
    "x ⇒ [h] ⇒ y\n",
    "\n",
    "$h_\\theta(x) = \\theta_0 + \\theta_1x$\n",
    "\n",
    "$\\theta$ - parameters\n",
    "\n",
    "### Cost Function\n",
    "\n",
    "Choose $\\theta_0$ and $\\theta_1$ so that $h_\\theta(x)$ is close to y for $(x, y)$\n",
    "\n",
    "**Squared Error**\n",
    "\n",
    "$J(\\theta_0, \\theta_1) = \\frac{1}{2m}\\sum^m_{i = 1}(h_\\theta(x^{(i)}) - y^{(i)})^2$\n",
    "\n",
    "The sum of the difference squared\n",
    "\n",
    "We want to minimize the cost function\n",
    "\n",
    "**Cost Function is a function of parameters**"
   ]
  }
 ],
 "metadata": {
  "kernelspec": {
   "display_name": "Python 3",
   "language": "python",
   "name": "python3"
  },
  "language_info": {
   "codemirror_mode": {
    "name": "ipython",
    "version": 3
   },
   "file_extension": ".py",
   "mimetype": "text/x-python",
   "name": "python",
   "nbconvert_exporter": "python",
   "pygments_lexer": "ipython3",
   "version": "3.7.9"
  }
 },
 "nbformat": 4,
 "nbformat_minor": 5
}
