{
 "cells": [
  {
   "cell_type": "markdown",
   "id": "optimum-mileage",
   "metadata": {},
   "source": [
    "# Normal Equation\n",
    "\n",
    "Method to solve for $\\theta$ analytically instead of iteratively\n",
    "\n",
    "Set $\\frac{\\partial}{\\partial\\theta_j}J(\\theta) = ... = 0$\n",
    "\n",
    "Solve for $\\theta_0,\\theta_1,...,\\theta_n$\n",
    "\n",
    "## Design Matrix\n",
    "\n",
    "$m$ examples $(x^{(1)}, y^{(1)}), ..., (x^{(m)}, y^{(m)})$;  $n$ features\n",
    "\n",
    "$X = \\begin{bmatrix}\n",
    "1 & (x^{(1)})^T\\\\ \n",
    "1 & (x^{(2)})^T\\\\ \n",
    "1 & (x^{(3)})^T\\\\ \n",
    "1 & (x^{(4)})^T\\\\ \n",
    "1 & ...\n",
    "\\end{bmatrix}$\n",
    "\n",
    "spreading out the transposes\n",
    "\n",
    "$y = \\begin{bmatrix}\n",
    "y^{(1)}\\\\ \n",
    "y^{(2)}\\\\ \n",
    "y^{(3)}\\\\ \n",
    "y^{(4)}\\\\ \n",
    "...\\\\\n",
    "y^{(n)}\\\\ \n",
    "\\end{bmatrix}$\n",
    "\n",
    "## Solution\n",
    "Use the Design Matrix\n",
    "\n",
    "$\\theta = (X^TX)^{-1}X^Ty$\n",
    "\n",
    "- no need to choose $\\alpha$\n",
    "- don't need to iterate\n",
    "- Need to compute inverse\n",
    "    - slow if n (number of features) is large\n",
    "    - usually ok if n < 10,000\n",
    "\n",
    "use pinv (pseudoinverse)\n",
    "\n",
    "- when the inverse is not available, return a pseudoinverse\n",
    "- pinv(A) * A = identity\n"
   ]
  },
  {
   "cell_type": "code",
   "execution_count": null,
   "id": "adjustable-collection",
   "metadata": {},
   "outputs": [],
   "source": []
  },
  {
   "cell_type": "code",
   "execution_count": null,
   "id": "secret-excerpt",
   "metadata": {},
   "outputs": [],
   "source": []
  }
 ],
 "metadata": {
  "kernelspec": {
   "display_name": "Python 3",
   "language": "python",
   "name": "python3"
  },
  "language_info": {
   "codemirror_mode": {
    "name": "ipython",
    "version": 3
   },
   "file_extension": ".py",
   "mimetype": "text/x-python",
   "name": "python",
   "nbconvert_exporter": "python",
   "pygments_lexer": "ipython3",
   "version": "3.7.9"
  }
 },
 "nbformat": 4,
 "nbformat_minor": 5
}
