{
 "cells": [
  {
   "cell_type": "markdown",
   "id": "virtual-offset",
   "metadata": {},
   "source": [
    "# Logistic Regression\n",
    "## Cost Function\n",
    "\n",
    "Training set: $\\{(x^{(1)},y^{(1)}), x^{(2)},y^{(2)}), ..., x^{(m)},y^{(m)})\\}$\n",
    "\n",
    "m examples $x \\in \\begin{bmatrix}\n",
    "x_0\\\\ \n",
    "x_1\\\\ \n",
    "...\\\\\n",
    "x_n\n",
    "\\end{bmatrix}$ $x_0 = 1, y\\in\\{0,1\\}$\n",
    "\n",
    "$h_\\theta(x) = \\frac{1}{1+e^{-\\theta^Tx}}$\n",
    "\n",
    "### Non-Convex Cost Function\n",
    "\n",
    "If we use the sum of the squared errors ⇒ the cost function would be non-convex\n",
    "\n",
    "- no guarantee that it will converge to the global minimum\n",
    "\n",
    "### Logistic Regression Cost Function\n",
    "\n",
    "$J(θ)=\\frac{1}{m}\\sum_{i=1}^mCost(h_\\theta(x(i)),y(i))$\n",
    "\n",
    "$Cost(h_\\theta(x),y)=−\\log(h_\\theta(x))$ if y = 1\n",
    "\n",
    "$Cost(h_\\theta(x),y)=−\\log(1−h_\\theta(x))$\n",
    "\n",
    "$Cost = 0$  if $y = 1$, $h_\\theta(x) = 1$\n",
    "\n",
    "But as $h_\\theta(x) \\rightarrow 0$\n",
    "\n",
    "$Cost \\rightarrow \\infty$\n",
    "\n",
    "Penalize learning algorithm by a large cost\n",
    "\n",
    "### Logistic Regression Cost Function\n",
    "\n",
    "Since $y = 0$ or $1$ always\n",
    "\n",
    "$\\textrm{Cost}(h_\\theta(x), y) = -y\\log(h_\\theta(x)) - (1-y)\\log(1-h_\\theta(x))$\n",
    "\n",
    "$J(\\theta) = -\\frac{1}{m}[\\sum^m_{i=1}y^{(i)}\\log h_\\theta(x^{(i)}) + (1-y^{(i)})\\log(1-h_\\theta(x^{(i)}))]$\n",
    "\n",
    "**Partial** **Derivative**\n",
    "\n",
    "$\\sum^m_{i=1}(h_\\theta(x^{(i)})-y^{(i)})x^{(i)}_j$\n",
    "\n",
    "> Look EXACTLY identical to linear regression!\n",
    "\n",
    "what is different here is the ***hypothesis function***\n",
    "\n",
    "**Vectorized Implementation**\n",
    "\n",
    "$\\theta := \\theta - \\frac{\\alpha}{m} X^T(g(X\\theta)-\\vec{y}$"
   ]
  },
  {
   "cell_type": "code",
   "execution_count": 8,
   "id": "adapted-survival",
   "metadata": {},
   "outputs": [],
   "source": [
    "# import libraries\n",
    "import numpy as np\n",
    "import matplotlib.pyplot as plt\n",
    "import pandas as pd"
   ]
  },
  {
   "cell_type": "code",
   "execution_count": 27,
   "id": "rotary-suffering",
   "metadata": {},
   "outputs": [
    {
     "data": {
      "text/html": [
       "<div>\n",
       "<style scoped>\n",
       "    .dataframe tbody tr th:only-of-type {\n",
       "        vertical-align: middle;\n",
       "    }\n",
       "\n",
       "    .dataframe tbody tr th {\n",
       "        vertical-align: top;\n",
       "    }\n",
       "\n",
       "    .dataframe thead th {\n",
       "        text-align: right;\n",
       "    }\n",
       "</style>\n",
       "<table border=\"1\" class=\"dataframe\">\n",
       "  <thead>\n",
       "    <tr style=\"text-align: right;\">\n",
       "      <th></th>\n",
       "      <th>0</th>\n",
       "      <th>1</th>\n",
       "      <th>2</th>\n",
       "      <th>3</th>\n",
       "      <th>4</th>\n",
       "    </tr>\n",
       "  </thead>\n",
       "  <tbody>\n",
       "    <tr>\n",
       "      <th>0</th>\n",
       "      <td>3.62160</td>\n",
       "      <td>8.6661</td>\n",
       "      <td>-2.8073</td>\n",
       "      <td>-0.44699</td>\n",
       "      <td>0</td>\n",
       "    </tr>\n",
       "    <tr>\n",
       "      <th>1</th>\n",
       "      <td>4.54590</td>\n",
       "      <td>8.1674</td>\n",
       "      <td>-2.4586</td>\n",
       "      <td>-1.46210</td>\n",
       "      <td>0</td>\n",
       "    </tr>\n",
       "    <tr>\n",
       "      <th>2</th>\n",
       "      <td>3.86600</td>\n",
       "      <td>-2.6383</td>\n",
       "      <td>1.9242</td>\n",
       "      <td>0.10645</td>\n",
       "      <td>0</td>\n",
       "    </tr>\n",
       "    <tr>\n",
       "      <th>3</th>\n",
       "      <td>3.45660</td>\n",
       "      <td>9.5228</td>\n",
       "      <td>-4.0112</td>\n",
       "      <td>-3.59440</td>\n",
       "      <td>0</td>\n",
       "    </tr>\n",
       "    <tr>\n",
       "      <th>4</th>\n",
       "      <td>0.32924</td>\n",
       "      <td>-4.4552</td>\n",
       "      <td>4.5718</td>\n",
       "      <td>-0.98880</td>\n",
       "      <td>0</td>\n",
       "    </tr>\n",
       "  </tbody>\n",
       "</table>\n",
       "</div>"
      ],
      "text/plain": [
       "         0       1       2        3  4\n",
       "0  3.62160  8.6661 -2.8073 -0.44699  0\n",
       "1  4.54590  8.1674 -2.4586 -1.46210  0\n",
       "2  3.86600 -2.6383  1.9242  0.10645  0\n",
       "3  3.45660  9.5228 -4.0112 -3.59440  0\n",
       "4  0.32924 -4.4552  4.5718 -0.98880  0"
      ]
     },
     "execution_count": 27,
     "metadata": {},
     "output_type": "execute_result"
    }
   ],
   "source": [
    "# https://archive.ics.uci.edu/ml/datasets/banknote+authentication\n",
    "\n",
    "'''\n",
    "1. variance of Wavelet Transformed image (continuous)\n",
    "2. skewness of Wavelet Transformed image (continuous)\n",
    "3. curtosis of Wavelet Transformed image (continuous)\n",
    "4. entropy of image (continuous)\n",
    "5. class (integer)\n",
    "'''\n",
    "\n",
    "dataset = pd.read_csv('data/data_banknote_authentication.txt', header=None)\n",
    "dataset.iloc[:5,:]"
   ]
  },
  {
   "cell_type": "code",
   "execution_count": 30,
   "id": "developed-column",
   "metadata": {},
   "outputs": [
    {
     "name": "stdout",
     "output_type": "stream",
     "text": [
      "[[  3.6216    8.6661   -2.8073   -0.44699]\n",
      " [  4.5459    8.1674   -2.4586   -1.4621 ]\n",
      " [  3.866    -2.6383    1.9242    0.10645]\n",
      " ...\n",
      " [ -3.7503  -13.4586   17.5932   -2.7771 ]\n",
      " [ -3.5637   -8.3827   12.393    -1.2823 ]\n",
      " [ -2.5419   -0.65804   2.6842    1.1952 ]]\n",
      "[0 0 0 ... 1 1 1]\n"
     ]
    }
   ],
   "source": [
    "# get input and output \n",
    "x = np.array(dataset.iloc[:,:4])\n",
    "y = np.array(dataset.iloc[:,4])\n",
    "\n",
    "print(x)\n",
    "print(y)"
   ]
  },
  {
   "cell_type": "code",
   "execution_count": 51,
   "id": "artistic-roads",
   "metadata": {
    "scrolled": true
   },
   "outputs": [
    {
     "data": {
      "text/plain": [
       "[]"
      ]
     },
     "execution_count": 51,
     "metadata": {},
     "output_type": "execute_result"
    },
    {
     "data": {
      "image/png": "[encoded data removed]",
      "text/plain": [
       "<Figure size 432x288 with 1 Axes>"
      ]
     },
     "metadata": {
      "needs_background": "light"
     },
     "output_type": "display_data"
    }
   ],
   "source": [
    "# logistic (sigmoid) function\n",
    "def sigmoid_function(z):\n",
    "    return 1 / (1 + np.exp(-z))\n",
    "\n",
    "# hypothesis function using the sigmoid function\n",
    "def hypothesis_function(x, theta):\n",
    "    return sigmoid_function(np.matmul(theta.T, x))\n",
    "\n",
    "# cost function\n",
    "def cost_function(x, y, theta):\n",
    "    sum_cost = 0\n",
    "    m = x.shape[0]\n",
    "    for i in range(m):\n",
    "        single_cost = -1 * y[i] * np.log(hypothesis_function(x[i], theta)) - (1 - y[i]) * np.log(1 - hypothesis_function(x[i], theta))\n",
    "        sum_cost += single_cost\n",
    "    return sum_cost / m\n",
    "\n",
    "# partial derivative of theta (same as linear regression)\n",
    "def partial_derivative(x, y, theta, x_terms):\n",
    "    sum_d = 0\n",
    "    m = x.shape[0]\n",
    "    # sum of the difference * the matching feature x_term / m\n",
    "    for i in range(m):\n",
    "        sum_d += (hypothesis_function(x[i], theta) - y[i]) * x_terms[i]\n",
    "    return sum_d / m\n",
    "\n",
    "# gradient descent\n",
    "def gradient_descent(x, y, theta, alpha):\n",
    "    new_theta = np.zeros(theta.shape[0])\n",
    "    # for each theta calculate the partial derivative\n",
    "    for j in range(theta.shape[0]):\n",
    "        # use x[:,j] to get the corresponding feature column\n",
    "        step = alpha * partial_derivative(x, y, theta, x[:,j])\n",
    "        new_theta[j] = theta[j] - step\n",
    "    return new_theta\n",
    "\n",
    "# learning rate\n",
    "a = 1\n",
    "iterations = 30\n",
    "\n",
    "# parameters\n",
    "theta = np.zeros(x.shape[1])\n",
    "\n",
    "# costs\n",
    "costs = np.zeros(iterations)\n",
    "\n",
    "# gradient descent\n",
    "for i in range(iterations):\n",
    "    theta = gradient_descent(x, y, theta, a)\n",
    "    costs[i] = cost_function(x, y, theta)\n",
    "\n",
    "fig, ax = plt.subplots()\n",
    "ax.plot(costs, label='cost')\n",
    "ax.set_xlabel('iterations')\n",
    "ax.set_ylabel('cost')\n",
    "ax.set_title(\"Gradient Descent\")\n",
    "ax.legend()\n",
    "ax.plot()"
   ]
  },
  {
   "cell_type": "markdown",
   "id": "pointed-threshold",
   "metadata": {},
   "source": [
    "## Optimization Algorithms\n",
    "\n",
    "- Gradient Descents\n",
    "\n",
    "### Other\n",
    "\n",
    "- Conjugate Gradient\n",
    "- BFGS\n",
    "- L-BFGS\n",
    "\n",
    "**Advantages**\n",
    "\n",
    "- No need to manually pick $\\alpha$\n",
    "- Often faster than gradient descent\n",
    "\n",
    "**Disadvantages**\n",
    "\n",
    "- More complex"
   ]
  }
 ],
 "metadata": {
  "kernelspec": {
   "display_name": "Python 3",
   "language": "python",
   "name": "python3"
  },
  "language_info": {
   "codemirror_mode": {
    "name": "ipython",
    "version": 3
   },
   "file_extension": ".py",
   "mimetype": "text/x-python",
   "name": "python",
   "nbconvert_exporter": "python",
   "pygments_lexer": "ipython3",
   "version": "3.7.9"
  }
 },
 "nbformat": 4,
 "nbformat_minor": 5
}
