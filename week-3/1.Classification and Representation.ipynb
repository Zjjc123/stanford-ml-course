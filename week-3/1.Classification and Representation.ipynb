{
 "cells": [
  {
   "cell_type": "markdown",
   "id": "special-introduction",
   "metadata": {},
   "source": [
    "# Binary Classification\n",
    "\n",
    "$y\\in  \\{ 0, 1 \\}$\n",
    "\n",
    "0: \"negative class\"\n",
    "\n",
    "1: \"positive class\"\n",
    "\n",
    "## Threshold Classifier\n",
    "\n",
    "if $h_\\theta(x) \\ge 0.5$, predict \"y = 1\"\n",
    "\n",
    "if $h_\\theta(x) \\lt 0.5$, predict \"y = 0\"\n",
    "\n",
    "But if the data changes, that threshold might not hold."
   ]
  },
  {
   "cell_type": "markdown",
   "id": "compliant-cartoon",
   "metadata": {},
   "source": [
    "# Logistic Regression\n",
    "\n",
    "Called regression but is actually a Classification Algorithm\n",
    "\n",
    "## Hypothesis Representation\n",
    "\n",
    "Want $0 \\le h_\\theta(x) \\le 1$ \n",
    "\n",
    "**Linear Regression: $h_\\theta = \\theta^Tx$**\n",
    "\n",
    "**Logistic Regression: $h_\\theta = g(\\theta^Tx)$**\n",
    "\n",
    "$g(z) = \\frac{1}{1+e^{-z}}$\n",
    "\n",
    "Sigmoid (Logistic) function\n",
    "\n",
    "### Hypothesis Function\n",
    "\n",
    "$h_\\theta(x) = \\frac{1}{e^{-\\theta^Tx}}$\n",
    "\n",
    "### Interpretation of Hypothesis Output\n",
    "\n",
    "$h_\\theta(x)$ = estimated probability that y = 1 on input x\n",
    "\n",
    "Output chances and probabilities\n",
    "\n",
    "$h_\\theta(x) = P(y=1 |x; \\theta)$\n",
    "\n",
    "> \"probability that y = 1, given x, parametrized by $\\theta$\n",
    "\n",
    "$P(y=0 |x; \\theta) + P(y=1 |x; \\theta) = 1$\n",
    "\n",
    "The probability adds up to 1\n",
    "\n",
    "## Decision Boundary\n",
    "\n",
    "### Logistic Regression\n",
    "\n",
    "Suppose predict\n",
    "\n",
    "- \"y=1\" if $h_\\theta(x) \\ge 0.5$\n",
    "    - $\\theta^Tx \\ge 0$\n",
    "- \"y=0\" if $h_\\theta(x) < 0.5$\n",
    "    - $\\theta^Tx < 0$\n",
    "\n",
    "The prediction creates a line/curve that separates the two classifications"
   ]
  }
 ],
 "metadata": {
  "kernelspec": {
   "display_name": "Python 3",
   "language": "python",
   "name": "python3"
  },
  "language_info": {
   "codemirror_mode": {
    "name": "ipython",
    "version": 3
   },
   "file_extension": ".py",
   "mimetype": "text/x-python",
   "name": "python",
   "nbconvert_exporter": "python",
   "pygments_lexer": "ipython3",
   "version": "3.7.9"
  }
 },
 "nbformat": 4,
 "nbformat_minor": 5
}
